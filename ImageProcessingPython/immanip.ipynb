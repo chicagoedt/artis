{
 "cells": [
  {
   "cell_type": "code",
   "execution_count": 2,
   "metadata": {
    "collapsed": false
   },
   "outputs": [],
   "source": [
    "import numpy as np\n",
    "from PIL import Image"
   ]
  },
  {
   "cell_type": "code",
   "execution_count": 3,
   "metadata": {
    "collapsed": true
   },
   "outputs": [],
   "source": [
    "def readPicture(picture):\n",
    "    img = Image.open(picture)\n",
    "    pix = img.load()\n",
    "    return (img, pix)"
   ]
  },
  {
   "cell_type": "code",
   "execution_count": 8,
   "metadata": {
    "collapsed": true
   },
   "outputs": [],
   "source": [
    "def colorDivide(image):\n",
    "    red = Image.new(\"RGB\",image[0].size)\n",
    "    rp = red.load()\n",
    "    green = Image.new(\"RGB\",image[0].size)\n",
    "    gp = green.load()\n",
    "    blue = Image.new(\"RGB\",image[0].size)\n",
    "    bp = blue.load()\n",
    "    for i in range(image[0].size[0]):\n",
    "        for j in range(image[0].size[1]):\n",
    "            rp[i,j] = (image[1][i,j][0],0,0)\n",
    "            gp[i,j] = (0,image[1][i,j][1],0)\n",
    "            bp[i,j] = (0,0,image[1][i,j][2])\n",
    "    return red, blue, green\n",
    "            "
   ]
  },
  {
   "cell_type": "code",
   "execution_count": 1,
   "metadata": {
    "collapsed": false
   },
   "outputs": [],
   "source": [
    "def colorFlatten(value,image):\n",
    "    pixels = image.load()\n",
    "    for i in range(image[0].size[0]):\n",
    "        for j in range(image[0].size[1]):\n",
    "            if(pixels[i,j][0] != 0):\n",
    "                pixels[i,j] = (value,0,0)\n",
    "            if(pixels[i,j][1] != 0):\n",
    "                pixels[i,j] = (0,value,0)\n",
    "            if(pixels[i,j][2] != 0):\n",
    "                pixels[i,j] = (0,0,value)\n"
   ]
  },
  {
   "cell_type": "code",
   "execution_count": null,
   "metadata": {
    "collapsed": true
   },
   "outputs": [],
   "source": []
  }
 ],
 "metadata": {
  "anaconda-cloud": {},
  "kernelspec": {
   "display_name": "Python [conda root]",
   "language": "python",
   "name": "conda-root-py"
  },
  "language_info": {
   "codemirror_mode": {
    "name": "ipython",
    "version": 3
   },
   "file_extension": ".py",
   "mimetype": "text/x-python",
   "name": "python",
   "nbconvert_exporter": "python",
   "pygments_lexer": "ipython3",
   "version": "3.5.2"
  }
 },
 "nbformat": 4,
 "nbformat_minor": 1
}
