{
 "cells": [
  {
   "cell_type": "code",
   "execution_count": 1,
   "metadata": {
    "collapsed": false
   },
   "outputs": [],
   "source": [
    "import numpy as np\n",
    "from PIL import Image"
   ]
  },
  {
   "cell_type": "raw",
   "metadata": {
    "collapsed": true
   },
   "source": []
  },
  {
   "cell_type": "code",
   "execution_count": 2,
   "metadata": {
    "collapsed": false
   },
   "outputs": [],
   "source": [
    "import immanip"
   ]
  },
  {
   "cell_type": "code",
   "execution_count": 3,
   "metadata": {
    "collapsed": false
   },
   "outputs": [],
   "source": [
    "IMAGE_LOC = \"MonaLisa.png\"\n",
    "B_INTENSITY = 200\n",
    "thisImage = immanip.readPicture(IMAGE_LOC)\n"
   ]
  },
  {
   "cell_type": "code",
   "execution_count": 4,
   "metadata": {
    "collapsed": false
   },
   "outputs": [],
   "source": [
    "colormaps = immanip.colorDivide(thisImage)\n"
   ]
  },
  {
   "cell_type": "code",
   "execution_count": 5,
   "metadata": {
    "collapsed": false
   },
   "outputs": [],
   "source": [
    "def image_to_canvas(image,canvas,cropshift):\n",
    "    pixels = image.load()\n",
    "    midpoint = (image.size[0]/2,image.size[1]/2)\n",
    "    startpoints = ((midpoint[0] - (canvas[0]/2)),midpoint[1] - (canvas[1]/2))\n",
    "    next_image = Image.new(\"RGB\",canvas)\n",
    "    next_pixels = next_image.load()\n",
    "    for i in range (canvas[0]):\n",
    "        for j in range (canvas[1]):\n",
    "            next_pixels[i,j] = pixels[i + startpoints[0] + cropshift[0],j + startpoints[1] + cropshift[1]]\n",
    "            \n",
    "            \n",
    "    image.show()\n",
    "    next_image.show()\n",
    "            \n",
    "            \n",
    "            \n",
    "    \n",
    "    "
   ]
  },
  {
   "cell_type": "code",
   "execution_count": 7,
   "metadata": {
    "collapsed": false
   },
   "outputs": [],
   "source": [
    "immanip.colorFlatten(B_INTENSITY,colormaps[0])\n",
    "image_to_canvas(colormaps[0],(1024,1024),(0,-350))"
   ]
  },
  {
   "cell_type": "code",
   "execution_count": null,
   "metadata": {
    "collapsed": true
   },
   "outputs": [],
   "source": []
  },
  {
   "cell_type": "code",
   "execution_count": null,
   "metadata": {
    "collapsed": true
   },
   "outputs": [],
   "source": []
  }
 ],
 "metadata": {
  "anaconda-cloud": {},
  "kernelspec": {
   "display_name": "Python [conda root]",
   "language": "python",
   "name": "conda-root-py"
  },
  "language_info": {
   "codemirror_mode": {
    "name": "ipython",
    "version": 3
   },
   "file_extension": ".py",
   "mimetype": "text/x-python",
   "name": "python",
   "nbconvert_exporter": "python",
   "pygments_lexer": "ipython3",
   "version": "3.5.2"
  }
 },
 "nbformat": 4,
 "nbformat_minor": 1
}
